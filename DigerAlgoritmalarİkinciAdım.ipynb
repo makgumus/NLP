{
 "cells": [
  {
   "cell_type": "code",
   "execution_count": null,
   "id": "85dc9f71",
   "metadata": {},
   "outputs": [],
   "source": [
    "import pandas as pd\n",
    "import numpy as np\n",
    "from nltk.tokenize import word_tokenize\n",
    "from nltk import pos_tag\n",
    "from nltk.corpus import stopwords\n",
    "from nltk.stem import WordNetLemmatizer\n",
    "from sklearn.preprocessing import LabelEncoder\n",
    "from collections import defaultdict\n",
    "from nltk.corpus import wordnet as wn\n",
    "from sklearn.feature_extraction.text import TfidfVectorizer\n",
    "from sklearn import model_selection, naive_bayes, svm\n",
    "from sklearn.metrics import accuracy_score\n",
    "import re # regular expression libary.\n",
    "import nltk as nlp\n",
    "from sklearn.feature_extraction.text import CountVectorizer \n",
    "import seaborn as sns \n",
    "import matplotlib.pyplot as plt\n",
    "from sklearn.metrics import confusion_matrix"
   ]
  },
  {
   "cell_type": "code",
   "execution_count": null,
   "id": "b31c639a",
   "metadata": {},
   "outputs": [],
   "source": [
    "file_name=\"route\"\n",
    "df = pd.read_excel(file_name, sheet_name=None)\n",
    "df_copy=df.copy()"
   ]
  },
  {
   "cell_type": "code",
   "execution_count": null,
   "id": "2c6d550f",
   "metadata": {},
   "outputs": [],
   "source": [
    "from nltk.corpus import stopwords\n",
    "nlp.download(\"stopwords\")\n",
    "\n",
    "def clearText(textList):\n",
    "    text_list=[]\n",
    "\n",
    "    for text in textList:\n",
    "        text = text.lower()  #Büyük harften -Küçük harfe çevirme\n",
    "        text = re.sub(\"[^abcçdefgğhıijklmnoöprsştuüvyz]\",\" \",text)\n",
    "        text=nlp.word_tokenize(text) # splits the words that are in the sentence from each other.\n",
    "        text =[word for word in text if not word in set(stopwords.words(\"turkish\"))]\n",
    "        lemma=nlp.WordNetLemmatizer()\n",
    "        text=[lemma.lemmatize(word) for word in text] # this code finds the root of the word for a word in the sentence and change them to their root form.\n",
    "        text=\" \".join(text)\n",
    "        text_list.append(text) # store sentences in list\n",
    "\n",
    "    return text_list\n",
    "\n",
    "text_list=clearText(df_copy[\"YL\"].text)\n",
    "train_text_list=clearText(df_copy[\"Ek2\"][:1400].text)\n",
    "test_text_list=clearText(df_copy[\"Ek2\"][1400:].text)"
   ]
  },
  {
   "cell_type": "code",
   "execution_count": null,
   "id": "bad1e0ac",
   "metadata": {},
   "outputs": [],
   "source": [
    "train_y=LabelEncoder().fit_transform(df_copy[\"Ek2\"][:1400].categoryText)\n",
    "test_y=LabelEncoder().fit_transform(df_copy[\"Ek2\"][1400:].categoryText)"
   ]
  },
  {
   "cell_type": "code",
   "execution_count": null,
   "id": "add4e813",
   "metadata": {},
   "outputs": [],
   "source": [
    "Train_X=train_text_list\n",
    "Test_X=test_text_list\n",
    "Test_Y=test_y\n",
    "Train_Y=train_y\n",
    "\n",
    "Tfidf_vect = TfidfVectorizer(max_features=500)\n",
    "Tfidf_vect.fit(text_list)\n",
    "\n",
    "Train_X_Tfidf = Tfidf_vect.transform(Train_X)\n",
    "Test_X_Tfidf = Tfidf_vect.transform(Test_X)"
   ]
  },
  {
   "cell_type": "code",
   "execution_count": null,
   "id": "47f84f91",
   "metadata": {},
   "outputs": [],
   "source": [
    "Naive = naive_bayes.MultinomialNB()\n",
    "Naive.fit(Train_X_Tfidf,Train_Y)"
   ]
  },
  {
   "cell_type": "code",
   "execution_count": null,
   "id": "00e973bd",
   "metadata": {},
   "outputs": [],
   "source": [
    "# predict the labels on validation dataset\n",
    "predictions_NB = Naive.predict(Test_X_Tfidf)\n",
    "\n",
    "# #Use accuracy_score function to get the accuracy\n",
    "print(\"Naive Bayes Accuracy Score -> \",accuracy_score(predictions_NB, Test_Y)*100)"
   ]
  },
  {
   "cell_type": "code",
   "execution_count": null,
   "id": "61d85fb8",
   "metadata": {},
   "outputs": [],
   "source": [
    "naiveb=confusion_matrix(test_y,predictions_NB)\n",
    "plt.figure(figsize=(10,10))\n",
    "sns.heatmap(confusion_matrix(test_y,predictions_NB),annot=True,fmt='d')\n",
    "plt.savefig('NaiveBayestek.eps', format='eps')"
   ]
  },
  {
   "cell_type": "code",
   "execution_count": null,
   "id": "e1335972",
   "metadata": {},
   "outputs": [],
   "source": [
    "# Classifier - Algorithm - SVM\n",
    "# fit the training dataset on the classifier\n",
    "SVM = svm.SVC(C=1.0, kernel='linear', degree=3, gamma='auto')\n",
    "SVM.fit(Train_X_Tfidf,Train_Y)\n",
    "\n",
    "# predict the labels on validation dataset\n",
    "predictions_SVM = SVM.predict(Test_X_Tfidf)\n",
    "\n",
    "# Use accuracy_score function to get the accuracy\n",
    "print(\"SVM Accuracy Score -> \",accuracy_score(predictions_SVM, Test_Y)*100)"
   ]
  },
  {
   "cell_type": "code",
   "execution_count": null,
   "id": "46ee5012",
   "metadata": {},
   "outputs": [],
   "source": [
    "plt.figure(figsize=(10,10))\n",
    "sns.heatmap(confusion_matrix(Test_Y,predictions_SVM),annot=True,fmt='d') \n",
    "plt.savefig('Svmtek.eps', format='eps')"
   ]
  },
  {
   "cell_type": "code",
   "execution_count": null,
   "id": "f1469042",
   "metadata": {},
   "outputs": [],
   "source": [
    "from sklearn.feature_extraction.text import CountVectorizer\n",
    "sentences_train=Train_X\n",
    "sentences_test=Test_X\n",
    "y_train=train_y\n",
    "y_test=test_y\n",
    "vectorizer = CountVectorizer()\n",
    "vectorizer.fit(text_list)\n",
    "X_train = vectorizer.transform(sentences_train)\n",
    "X_test  = vectorizer.transform(sentences_test)"
   ]
  },
  {
   "cell_type": "code",
   "execution_count": null,
   "id": "7d942acb",
   "metadata": {},
   "outputs": [],
   "source": [
    "from sklearn.linear_model import LogisticRegression\n",
    "\n",
    "classifier = LogisticRegression()\n",
    "classifier.fit(X_train, y_train)\n",
    "score = classifier.score(X_test, y_test)\n",
    "predictions_LR = classifier.predict(X_test)\n",
    "print(\"Accuracy:\", score)"
   ]
  },
  {
   "cell_type": "code",
   "execution_count": null,
   "id": "74f90d38",
   "metadata": {},
   "outputs": [],
   "source": [
    "plt.figure(figsize=(10,10))\n",
    "sns.heatmap(confusion_matrix(y_test,predictions_LR),annot=True,fmt='d')\n",
    "plt.savefig('LogisticRegtek.eps', format='eps')"
   ]
  }
 ],
 "metadata": {
  "interpreter": {
   "hash": "91df7b1a20000e07e6b1e09c593140f6b812efd7abaa725ccca3c7415223b4a5"
  },
  "kernelspec": {
   "display_name": "Python 3.9.7 ('jupyterlab')",
   "language": "python",
   "name": "python3"
  },
  "language_info": {
   "codemirror_mode": {
    "name": "ipython",
    "version": 3
   },
   "file_extension": ".py",
   "mimetype": "text/x-python",
   "name": "python",
   "nbconvert_exporter": "python",
   "pygments_lexer": "ipython3",
   "version": "3.9.7"
  }
 },
 "nbformat": 4,
 "nbformat_minor": 5
}
