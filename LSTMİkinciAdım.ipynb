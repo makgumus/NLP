{
 "cells": [
  {
   "cell_type": "code",
   "execution_count": null,
   "metadata": {},
   "outputs": [],
   "source": [
    "import numpy as np # linear algebra\n",
    "import pandas as pd # data processing, CSV file I/O (e.g. pd.read_csv)\n",
    "import re # regular expression libary.\n",
    "import nltk # Natural Language toolkit\n",
    "nltk.download(\"stopwords\")  #downloading stopwords\n",
    "nltk.download('punkt')\n",
    "from nltk import word_tokenize,sent_tokenize\n",
    "nltk.download('wordnet')\n",
    "import nltk as nlp\n",
    "from sklearn.preprocessing import LabelEncoder\n",
    "import tensorflow as tf\n",
    "from tensorflow.keras.preprocessing.text import Tokenizer\n",
    "from tensorflow.keras.preprocessing.sequence import pad_sequences \n",
    "from sklearn.feature_extraction.text import CountVectorizer \n",
    "from wordcloud import WordCloud "
   ]
  },
  {
   "cell_type": "code",
   "execution_count": null,
   "metadata": {},
   "outputs": [],
   "source": [
    "import matplotlib.pyplot as plt\n",
    "from sklearn.model_selection import train_test_split\n",
    "from sklearn.metrics import confusion_matrix,accuracy_score,classification_report,precision_score\n",
    "from sklearn import preprocessing\n",
    "from sklearn.feature_extraction.text import CountVectorizer #Bag of Words\n",
    "import seaborn as sns \n",
    "import collections \n",
    "import matplotlib.pyplot as plt\n",
    "from sklearn.metrics import confusion_matrix\n"
   ]
  },
  {
   "cell_type": "code",
   "execution_count": null,
   "metadata": {
    "colab": {
     "base_uri": "https://localhost:8080/"
    },
    "executionInfo": {
     "elapsed": 1376,
     "status": "ok",
     "timestamp": 1634539157191,
     "user": {
      "displayName": "Muhammed Akgümüş",
      "photoUrl": "https://lh3.googleusercontent.com/a/default-user=s64",
      "userId": "02026788973033669455"
     },
     "user_tz": -180
    },
    "id": "zYU_fdHKV5SH",
    "outputId": "66933a38-954b-4e4c-ce0c-570e6ee3ebaf"
   },
   "outputs": [],
   "source": [
    "file_name=\"route\"\n",
    "df = pd.read_excel(file_name, sheet_name=None)"
   ]
  },
  {
   "cell_type": "code",
   "execution_count": null,
   "metadata": {
    "colab": {
     "base_uri": "https://localhost:8080/",
     "height": 203
    },
    "executionInfo": {
     "elapsed": 408,
     "status": "ok",
     "timestamp": 1634539162423,
     "user": {
      "displayName": "Muhammed Akgümüş",
      "photoUrl": "https://lh3.googleusercontent.com/a/default-user=s64",
      "userId": "02026788973033669455"
     },
     "user_tz": -180
    },
    "id": "KAePhlmuV5tK",
    "outputId": "d1172c31-1540-4d30-933b-5ba4660a5e1b"
   },
   "outputs": [],
   "source": [
    "df_copy=df.copy()\n",
    "df_copy[\"YL\"].head()"
   ]
  },
  {
   "cell_type": "code",
   "execution_count": null,
   "metadata": {
    "executionInfo": {
     "elapsed": 314,
     "status": "ok",
     "timestamp": 1634539659497,
     "user": {
      "displayName": "Muhammed Akgümüş",
      "photoUrl": "https://lh3.googleusercontent.com/a/default-user=s64",
      "userId": "02026788973033669455"
     },
     "user_tz": -180
    },
    "id": "vuxoEC8UWCdI"
   },
   "outputs": [],
   "source": [
    "Encoder = preprocessing.LabelEncoder()\n",
    "y_train=Encoder.fit_transform(df_copy[\"Ek2\"][:1400].categoryText)\n",
    "y_test=Encoder.fit_transform(df_copy[\"Ek2\"][1400:].categoryText)"
   ]
  },
  {
   "cell_type": "code",
   "execution_count": null,
   "metadata": {},
   "outputs": [],
   "source": [
    "import seaborn as sns \n",
    "import matplotlib.pyplot as plt\n",
    "\n",
    "data =df_copy[\"YL\"].Category.value_counts()\n",
    "sns.barplot(y = data.index, x = data, orient='h')\n",
    "#plt.savefig('category.eps', format='eps')"
   ]
  },
  {
   "cell_type": "code",
   "execution_count": null,
   "metadata": {
    "colab": {
     "base_uri": "https://localhost:8080/"
    },
    "executionInfo": {
     "elapsed": 425,
     "status": "ok",
     "timestamp": 1634539667269,
     "user": {
      "displayName": "Muhammed Akgümüş",
      "photoUrl": "https://lh3.googleusercontent.com/a/default-user=s64",
      "userId": "02026788973033669455"
     },
     "user_tz": -180
    },
    "id": "ZT5p6pUrWHid",
    "outputId": "940e7408-0a2c-4824-8674-bf4275bf37e0"
   },
   "outputs": [],
   "source": [
    "from nltk.corpus import stopwords\n",
    "nltk.download(\"stopwords\")\n",
    "nltk.download('omw-1.4')"
   ]
  },
  {
   "cell_type": "code",
   "execution_count": null,
   "metadata": {
    "executionInfo": {
     "elapsed": 110515,
     "status": "ok",
     "timestamp": 1634539784418,
     "user": {
      "displayName": "Muhammed Akgümüş",
      "photoUrl": "https://lh3.googleusercontent.com/a/default-user=s64",
      "userId": "02026788973033669455"
     },
     "user_tz": -180
    },
    "id": "RlMz4BFpWN7K"
   },
   "outputs": [],
   "source": [
    "def clearText(textList):\n",
    "    text_list=[]\n",
    "\n",
    "    for text in textList:\n",
    "        text = text.lower()  #Büyük harften -Küçük harfe çevirme\n",
    "        text = re.sub(\"[^abcçdefgğhıijklmnoöprsştuüvyz]\",\" \",text)\n",
    "        text=nlp.word_tokenize(text) # splits the words that are in the sentence from each other.\n",
    "        text =[word for word in text if not word in set(stopwords.words(\"turkish\"))]\n",
    "        lemma=nlp.WordNetLemmatizer()\n",
    "        text=[lemma.lemmatize(word) for word in text] # this code finds the root of the word for a word in the sentence and change them to their root form.\n",
    "        text=\" \".join(text)\n",
    "        text_list.append(text) # store sentences in list\n",
    "\n",
    "    return text_list\n",
    "\n",
    "text_list=clearText(df_copy[\"YL\"].text)\n",
    "train_text_list=clearText(df_copy[\"Ek2\"][:1400].text)\n",
    "test_text_list=clearText(df_copy[\"Ek2\"][1400:].text)"
   ]
  },
  {
   "cell_type": "code",
   "execution_count": null,
   "metadata": {
    "executionInfo": {
     "elapsed": 1645,
     "status": "ok",
     "timestamp": 1634539868178,
     "user": {
      "displayName": "Muhammed Akgümüş",
      "photoUrl": "https://lh3.googleusercontent.com/a/default-user=s64",
      "userId": "02026788973033669455"
     },
     "user_tz": -180
    },
    "id": "hUKb9r5OWXwY"
   },
   "outputs": [],
   "source": [
    "max_features=500 # \"number\" most common(used) words in reviews\n",
    "count_vectorizer=CountVectorizer(max_features=max_features) \n",
    "X_train=count_vectorizer.fit_transform(train_text_list).toarray()\n",
    "X_test=count_vectorizer.fit_transform(test_text_list).toarray()"
   ]
  },
  {
   "cell_type": "code",
   "execution_count": null,
   "metadata": {},
   "outputs": [],
   "source": [
    "X_train=train_text_list\n",
    "X_test=test_text_list"
   ]
  },
  {
   "cell_type": "code",
   "execution_count": null,
   "metadata": {
    "colab": {
     "base_uri": "https://localhost:8080/"
    },
    "executionInfo": {
     "elapsed": 3382,
     "status": "ok",
     "timestamp": 1634541179091,
     "user": {
      "displayName": "Muhammed Akgümüş",
      "photoUrl": "https://lh3.googleusercontent.com/a/default-user=s64",
      "userId": "02026788973033669455"
     },
     "user_tz": -180
    },
    "id": "YfiH6i2qYp4I",
    "outputId": "18d5e064-7646-4b17-c78e-0e69e5c5c5d4"
   },
   "outputs": [],
   "source": [
    "import tensorflow as tf\n",
    "max_lenght=100\n",
    "\n",
    "\n",
    "tokenizer = Tokenizer()\n",
    "tokenizer.fit_on_texts(X_train)\n",
    "\n",
    "\n",
    "word_index = tokenizer.word_index # creating word dict for words in training\n",
    "\n",
    "sequences = tokenizer.texts_to_sequences(X_train)  # replacing words with the number corresponding to them in the dictionary(word_index)\n",
    "\n",
    "X_train_padded = pad_sequences(sequences, padding='post',maxlen=max_lenght) # padding words\n",
    "\n",
    "print(len(word_index)) # I have 94836 words in my dictionary"
   ]
  },
  {
   "cell_type": "code",
   "execution_count": null,
   "metadata": {
    "executionInfo": {
     "elapsed": 715,
     "status": "ok",
     "timestamp": 1634541192704,
     "user": {
      "displayName": "Muhammed Akgümüş",
      "photoUrl": "https://lh3.googleusercontent.com/a/default-user=s64",
      "userId": "02026788973033669455"
     },
     "user_tz": -180
    },
    "id": "_GuF5e2WY0qt"
   },
   "outputs": [],
   "source": [
    "X_test_sequences = tokenizer.texts_to_sequences(X_test)\n",
    "X_test_padded = pad_sequences(X_test_sequences,padding=\"post\",maxlen=max_lenght)"
   ]
  },
  {
   "cell_type": "code",
   "execution_count": null,
   "metadata": {
    "colab": {
     "base_uri": "https://localhost:8080/"
    },
    "executionInfo": {
     "elapsed": 1259,
     "status": "ok",
     "timestamp": 1634541206737,
     "user": {
      "displayName": "Muhammed Akgümüş",
      "photoUrl": "https://lh3.googleusercontent.com/a/default-user=s64",
      "userId": "02026788973033669455"
     },
     "user_tz": -180
    },
    "id": "j2j9JoqQY7Fw",
    "outputId": "03c3de17-e7a0-46fa-bb1a-64747ca6ebf7"
   },
   "outputs": [],
   "source": [
    "vocab_size = len(tokenizer.word_index)+1\n",
    "embedding_dim=16\n",
    "\n",
    "model = tf.keras.Sequential([\n",
    "    \n",
    "    tf.keras.layers.Embedding(vocab_size, embedding_dim, input_length=100),\n",
    "    \n",
    "    tf.keras.layers.Bidirectional(tf.keras.layers.LSTM(64)),\n",
    "    tf.keras.layers.Dropout(0.3),\n",
    "    tf.keras.layers.BatchNormalization(),\n",
    "    \n",
    "    tf.keras.layers.Flatten(),\n",
    "    \n",
    "    tf.keras.layers.Dense(64, activation='relu'),\n",
    "    tf.keras.layers.BatchNormalization(),\n",
    "    tf.keras.layers.Dropout(0.2),\n",
    "    \n",
    "    tf.keras.layers.Dense(3, activation='softmax')\n",
    "])\n",
    "\n",
    "adam= tf.keras.optimizers.Adam(lr=0.01) \n",
    "\n",
    "\n",
    "model.compile(loss='sparse_categorical_crossentropy',optimizer=adam,metrics=['accuracy'])\n",
    "model.summary()"
   ]
  },
  {
   "cell_type": "code",
   "execution_count": null,
   "metadata": {
    "executionInfo": {
     "elapsed": 322,
     "status": "ok",
     "timestamp": 1634541228346,
     "user": {
      "displayName": "Muhammed Akgümüş",
      "photoUrl": "https://lh3.googleusercontent.com/a/default-user=s64",
      "userId": "02026788973033669455"
     },
     "user_tz": -180
    },
    "id": "W-hV0CbHZBOh"
   },
   "outputs": [],
   "source": [
    "y_train_label=np.asarray(y_train).reshape(-1,1)\n",
    "y_test_label=np.asarray(y_test).reshape(-1,1)\n",
    "#y_train_label = np.asarray(y_train).reshape((-1,1))\n",
    "#y_test_label = np.asarray(y_test).reshape((-1,1))"
   ]
  },
  {
   "cell_type": "code",
   "execution_count": null,
   "metadata": {
    "colab": {
     "base_uri": "https://localhost:8080/"
    },
    "executionInfo": {
     "elapsed": 146260,
     "status": "ok",
     "timestamp": 1634541376849,
     "user": {
      "displayName": "Muhammed Akgümüş",
      "photoUrl": "https://lh3.googleusercontent.com/a/default-user=s64",
      "userId": "02026788973033669455"
     },
     "user_tz": -180
    },
    "id": "HM6EBMCKZEPX",
    "outputId": "739305d0-69dd-4132-f070-5d4f73b787c1"
   },
   "outputs": [],
   "source": [
    "num_epochs = 10\n",
    "BATCH_SIZE=64\n",
    "history=model.fit(X_train_padded,y_train_label,batch_size=BATCH_SIZE ,epochs=num_epochs, validation_data=(X_test_padded,y_test_label))"
   ]
  },
  {
   "cell_type": "markdown",
   "metadata": {},
   "source": []
  },
  {
   "cell_type": "code",
   "execution_count": null,
   "metadata": {
    "colab": {
     "base_uri": "https://localhost:8080/",
     "height": 281
    },
    "executionInfo": {
     "elapsed": 349,
     "status": "ok",
     "timestamp": 1634541404793,
     "user": {
      "displayName": "Muhammed Akgümüş",
      "photoUrl": "https://lh3.googleusercontent.com/a/default-user=s64",
      "userId": "02026788973033669455"
     },
     "user_tz": -180
    },
    "id": "qa23cR2_ZGu6",
    "outputId": "a58f3a26-7514-4c62-f86c-a921883115ca"
   },
   "outputs": [],
   "source": [
    "plt.plot(history.history[\"accuracy\"],color=\"green\")\n",
    "plt.plot(history.history[\"loss\"],color=\"red\")\n",
    "plt.title(\"Train accuracy and Train loss\")\n",
    "plt.legend([\"Accuracy\",\"Loss\"])\n",
    "plt.grid()\n",
    "plt.savefig('lstmtektrain.eps', format='eps')"
   ]
  },
  {
   "cell_type": "code",
   "execution_count": null,
   "metadata": {
    "colab": {
     "base_uri": "https://localhost:8080/",
     "height": 281
    },
    "executionInfo": {
     "elapsed": 383,
     "status": "ok",
     "timestamp": 1634541422494,
     "user": {
      "displayName": "Muhammed Akgümüş",
      "photoUrl": "https://lh3.googleusercontent.com/a/default-user=s64",
      "userId": "02026788973033669455"
     },
     "user_tz": -180
    },
    "id": "HB0-v0WbZJlB",
    "outputId": "b2c56937-a121-40a2-e1da-22f4bf7e2252"
   },
   "outputs": [],
   "source": [
    "plt.plot(history.history[\"val_accuracy\"],color=\"blue\")\n",
    "plt.plot(history.history[\"val_loss\"],color=\"orange\")\n",
    "plt.title(\"Test accuracy and Test loss\")\n",
    "plt.legend([\"Val_accuracy\",\"Val_loss\"])\n",
    "plt.grid()\n",
    "plt.savefig('lsttek.eps', format='eps')"
   ]
  },
  {
   "cell_type": "code",
   "execution_count": null,
   "metadata": {
    "colab": {
     "base_uri": "https://localhost:8080/"
    },
    "executionInfo": {
     "elapsed": 3718,
     "status": "ok",
     "timestamp": 1634541433480,
     "user": {
      "displayName": "Muhammed Akgümüş",
      "photoUrl": "https://lh3.googleusercontent.com/a/default-user=s64",
      "userId": "02026788973033669455"
     },
     "user_tz": -180
    },
    "id": "h3xxofskZMRp",
    "outputId": "86e9ce5e-e965-4870-861e-1384f21c0ce0"
   },
   "outputs": [],
   "source": [
    "print(\"Accuracy of the model on Training Data is - \" , model.evaluate(X_train_padded,y_train_label)[1]*100 , \"%\")\n",
    "print(\"Accuracy of the model on Testing Data is - \" , model.evaluate(X_test_padded,y_test_label)[1]*100 , \"%\")"
   ]
  }
 ],
 "metadata": {
  "colab": {
   "authorship_tag": "ABX9TyOHNTGtsTbiAHGciLGQtErc",
   "collapsed_sections": [],
   "name": "TTC.ipynb",
   "provenance": []
  },
  "interpreter": {
   "hash": "8f5ee9c2583891b44df3150f860b8173f9394476870161920a7fadc22f73e1aa"
  },
  "kernelspec": {
   "display_name": "Python 3.8.12 ('base')",
   "language": "python",
   "name": "python3"
  },
  "language_info": {
   "codemirror_mode": {
    "name": "ipython",
    "version": 3
   },
   "file_extension": ".py",
   "mimetype": "text/x-python",
   "name": "python",
   "nbconvert_exporter": "python",
   "pygments_lexer": "ipython3",
   "version": "3.8.12"
  }
 },
 "nbformat": 4,
 "nbformat_minor": 1
}
